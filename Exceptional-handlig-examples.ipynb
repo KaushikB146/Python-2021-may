{
 "cells": [
  {
   "cell_type": "code",
   "execution_count": 3,
   "metadata": {},
   "outputs": [
    {
     "ename": "SyntaxError",
     "evalue": "invalid syntax (<ipython-input-3-0ab7e8923b68>, line 2)",
     "output_type": "error",
     "traceback": [
      "\u001b[1;36m  File \u001b[1;32m\"<ipython-input-3-0ab7e8923b68>\"\u001b[1;36m, line \u001b[1;32m2\u001b[0m\n\u001b[1;33m    if(4>2)\u001b[0m\n\u001b[1;37m           ^\u001b[0m\n\u001b[1;31mSyntaxError\u001b[0m\u001b[1;31m:\u001b[0m invalid syntax\n"
     ]
    }
   ],
   "source": [
    "try:\n",
    "    if(4>2)\n",
    "        print('A')\n",
    "except:\n",
    "    print(\"Exception\")"
   ]
  },
  {
   "cell_type": "code",
   "execution_count": 4,
   "metadata": {},
   "outputs": [
    {
     "name": "stdout",
     "output_type": "stream",
     "text": [
      "A\n"
     ]
    }
   ],
   "source": [
    "try:\n",
    "    if(4>2):\n",
    "        print('A')\n",
    "except:\n",
    "    print(\"Exception\")"
   ]
  },
  {
   "cell_type": "code",
   "execution_count": 9,
   "metadata": {},
   "outputs": [
    {
     "name": "stdout",
     "output_type": "stream",
     "text": [
      "hello Kaushik\n",
      "KG\n",
      "Welcome to exception handling\n",
      "Thank you\n"
     ]
    }
   ],
   "source": [
    "print(\"hello Kaushik\")\n",
    "\n",
    "try:\n",
    "    print(name)\n",
    "except:\n",
    "    print(\"Name variable is not defined\")\n",
    "      \n",
    "print('Welcome to exception handling')\n",
    "print('Thank you')"
   ]
  },
  {
   "cell_type": "code",
   "execution_count": 7,
   "metadata": {},
   "outputs": [
    {
     "name": "stdout",
     "output_type": "stream",
     "text": [
      "hello Kaushik\n",
      "KG\n",
      "Welcome to exception handling\n",
      "Thank you\n"
     ]
    }
   ],
   "source": [
    "print(\"hello Kaushik\")\n",
    "name = \"KG\"\n",
    "try:\n",
    "    print(name)\n",
    "except:\n",
    "    print(\"Name variable is not defined\")\n",
    "      \n",
    "print('Welcome to exception handling')\n",
    "print('Thank you')"
   ]
  },
  {
   "cell_type": "code",
   "execution_count": 10,
   "metadata": {},
   "outputs": [
    {
     "name": "stdout",
     "output_type": "stream",
     "text": [
      "Invalid index\n",
      "End of program\n"
     ]
    }
   ],
   "source": [
    "try:\n",
    "    index = 6\n",
    "    elem = list1[index]\n",
    "    print('element = ',elem)\n",
    "except:\n",
    "    print('Invalid index')\n",
    "finally:\n",
    "    print(\"End of program\")"
   ]
  },
  {
   "cell_type": "code",
   "execution_count": 11,
   "metadata": {},
   "outputs": [
    {
     "name": "stdout",
     "output_type": "stream",
     "text": [
      "start of the program\n",
      "Enter the numerator : 10\n",
      "Enter the denominator : 5\n",
      "Numerator = 10 , Denominator = 5\n",
      "result =  2.0\n",
      "End of program\n"
     ]
    }
   ],
   "source": [
    "print(\"start of the program\")\n",
    "\n",
    "num1 = int(input(\"Enter the numerator : \"))\n",
    "num2 = int(input(\"Enter the denominator : \"))\n",
    "\n",
    "print('Numerator = {} , Denominator = {}'.format(num1,num2))\n",
    "\n",
    "result = num1/num2\n",
    "\n",
    "print(\"result = \",result)\n",
    "print(\"End of program\")"
   ]
  },
  {
   "cell_type": "code",
   "execution_count": 14,
   "metadata": {},
   "outputs": [
    {
     "name": "stdout",
     "output_type": "stream",
     "text": [
      "start of the program\n",
      "Enter the numerator : 10\n",
      "Enter the denominator : 0\n",
      "Numerator = 10 , Denominator = 0\n",
      "Enter a non-zero denominator\n",
      "End of program\n"
     ]
    }
   ],
   "source": [
    "print(\"start of the program\")\n",
    "\n",
    "try:\n",
    "    num1 = int(input(\"Enter the numerator : \"))\n",
    "    num2 = int(input(\"Enter the denominator : \"))\n",
    "\n",
    "    print('Numerator = {} , Denominator = {}'.format(num1,num2))\n",
    "\n",
    "    result = num1/num2\n",
    "    print(\"result = \",result)\n",
    "    \n",
    "except ZeroDivisionError:\n",
    "    print(\"Enter a non-zero denominator\")\n",
    "    \n",
    "except ValueError:\n",
    "    print(\"Please enter the numbers only\")\n",
    "    \n",
    "except:\n",
    "    print(\"Something went wrong\")\n",
    "    \n",
    "finally:\n",
    "    print(\"End of program\")"
   ]
  },
  {
   "cell_type": "code",
   "execution_count": null,
   "metadata": {
    "collapsed": true
   },
   "outputs": [],
   "source": []
  },
  {
   "cell_type": "code",
   "execution_count": null,
   "metadata": {
    "collapsed": true
   },
   "outputs": [],
   "source": []
  }
 ],
 "metadata": {
  "kernelspec": {
   "display_name": "Python 3",
   "language": "python",
   "name": "python3"
  },
  "language_info": {
   "codemirror_mode": {
    "name": "ipython",
    "version": 3
   },
   "file_extension": ".py",
   "mimetype": "text/x-python",
   "name": "python",
   "nbconvert_exporter": "python",
   "pygments_lexer": "ipython3",
   "version": "3.6.3"
  }
 },
 "nbformat": 4,
 "nbformat_minor": 2
}
