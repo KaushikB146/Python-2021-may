{
  "nbformat": 4,
  "nbformat_minor": 0,
  "metadata": {
    "colab": {
      "name": "File01.ipynb",
      "provenance": [],
      "collapsed_sections": []
    },
    "kernelspec": {
      "name": "python3",
      "display_name": "Python 3"
    },
    "language_info": {
      "name": "python"
    }
  },
  "cells": [
    {
      "cell_type": "code",
      "metadata": {
        "colab": {
          "base_uri": "https://localhost:8080/"
        },
        "id": "2Cl8mJiZIZTJ",
        "outputId": "a9e393a6-7c71-4f71-bc58-546c5a9281ad"
      },
      "source": [
        "print(\"Welcome to Python class\")"
      ],
      "execution_count": null,
      "outputs": [
        {
          "output_type": "stream",
          "text": [
            "Welcome to Python class\n"
          ],
          "name": "stdout"
        }
      ]
    },
    {
      "cell_type": "code",
      "metadata": {
        "colab": {
          "base_uri": "https://localhost:8080/"
        },
        "id": "QZhxBPJHIsuS",
        "outputId": "f06f9a67-f689-4916-f09c-3d0c2b7c1fe9"
      },
      "source": [
        "num1 = input('Enter the number1:')\n",
        "num2 = input('Enter the number2:')\n",
        "\n",
        "Sum = float(num1) + float(num2)\n",
        "print('the sum of {0} and {1} is {2}'.format(num1, num2, Sum))\n"
      ],
      "execution_count": null,
      "outputs": [
        {
          "output_type": "stream",
          "text": [
            "Enter the number1:5\n",
            "Enter the number2:5\n",
            "the sum of 5 and 5 is 10.0\n"
          ],
          "name": "stdout"
        }
      ]
    }
  ]
}